{
 "cells": [
  {
   "cell_type": "markdown",
   "metadata": {},
   "source": [
    "# 버블정렬"
   ]
  },
  {
   "cell_type": "code",
   "execution_count": 4,
   "metadata": {},
   "outputs": [],
   "source": [
    "def bubblesort(data):\n",
    "    \n",
    "    for index in range(len(data) -1 ):\n",
    "        swap = False\n",
    "        for index2 in range(len(data) - index - 1):\n",
    "            if data[index2] > data[index2+1] :\n",
    "                data[index2], data[index2+1] = data[index2+1], data[index2]\n",
    "                swap = True\n",
    "        if not swap :\n",
    "            break\n",
    "    return data"
   ]
  },
  {
   "cell_type": "code",
   "execution_count": 5,
   "metadata": {},
   "outputs": [
    {
     "name": "stdout",
     "output_type": "stream",
     "text": [
      "[0, 2, 7, 8, 9, 10, 11, 13, 15, 18, 20, 21, 22, 25, 26, 29, 30, 31, 33, 34, 35, 36, 37, 39, 41, 42, 44, 45, 50, 57, 59, 60, 61, 63, 68, 70, 71, 72, 79, 82, 84, 85, 86, 88, 89, 90, 92, 93, 95, 96]\n"
     ]
    }
   ],
   "source": [
    "import random\n",
    "data_list = random.sample(range(100), 50)\n",
    "print(bubblesort(data_list))"
   ]
  },
  {
   "cell_type": "markdown",
   "metadata": {},
   "source": [
    "# 선택정렬"
   ]
  },
  {
   "cell_type": "code",
   "execution_count": null,
   "metadata": {},
   "outputs": [],
   "source": []
  }
 ],
 "metadata": {
  "kernelspec": {
   "display_name": "Python 3",
   "language": "python",
   "name": "python3"
  },
  "language_info": {
   "codemirror_mode": {
    "name": "ipython",
    "version": 3
   },
   "file_extension": ".py",
   "mimetype": "text/x-python",
   "name": "python",
   "nbconvert_exporter": "python",
   "pygments_lexer": "ipython3",
   "version": "3.8.5"
  }
 },
 "nbformat": 4,
 "nbformat_minor": 4
}
